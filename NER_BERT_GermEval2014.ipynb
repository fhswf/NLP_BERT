{
  "nbformat": 4,
  "nbformat_minor": 0,
  "metadata": {
    "colab": {
      "name": "NER_BERT_GermEval2014.ipynb",
      "provenance": [],
      "authorship_tag": "ABX9TyMTnFZKG3BKVZ1OVLHnTsA8",
      "include_colab_link": true
    },
    "kernelspec": {
      "name": "python3",
      "display_name": "Python 3"
    }
  },
  "cells": [
    {
      "cell_type": "markdown",
      "metadata": {
        "id": "view-in-github",
        "colab_type": "text"
      },
      "source": [
        "<a href=\"https://colab.research.google.com/github/fhswf/NLP_BERT/blob/master/NER_BERT_GermEval2014.ipynb\" target=\"_parent\"><img src=\"https://colab.research.google.com/assets/colab-badge.svg\" alt=\"Open In Colab\"/></a>"
      ]
    },
    {
      "cell_type": "markdown",
      "metadata": {
        "id": "8t0Ql-_G8Vrj",
        "colab_type": "text"
      },
      "source": [
        "# Fine-Tuning BERT for German Named Entity Recognition\n",
        "\n",
        "## Download and clean data for GermEval 2014 NER task\n",
        "\n",
        "The following lines download the data set and convert it to a format compatible with CoNLL 2003."
      ]
    },
    {
      "cell_type": "code",
      "metadata": {
        "id": "df8GwQgl73cx",
        "colab_type": "code",
        "colab": {}
      },
      "source": [
        ""
      ],
      "execution_count": 0,
      "outputs": []
    },
    {
      "cell_type": "markdown",
      "metadata": {
        "id": "x0GlhrSH8TYt",
        "colab_type": "text"
      },
      "source": [
        ""
      ]
    }
  ]
}